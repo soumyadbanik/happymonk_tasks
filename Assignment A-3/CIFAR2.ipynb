{
 "cells": [
  {
   "cell_type": "code",
   "execution_count": 2,
   "metadata": {
    "colab": {
     "base_uri": "https://localhost:8080/"
    },
    "executionInfo": {
     "elapsed": 5725,
     "status": "ok",
     "timestamp": 1665923352319,
     "user": {
      "displayName": "SOUMYADEEP BANIK",
      "userId": "08525205833121109985"
     },
     "user_tz": -330
    },
    "id": "DgR2diZNV3-_",
    "outputId": "d8a16487-ebe7-4ff0-8426-1976aa5bdd34"
   },
   "outputs": [
    {
     "name": "stdout",
     "output_type": "stream",
     "text": [
      "Cloning into 'CIFAR-10-images'...\n",
      "remote: Enumerating objects: 60027, done.\u001b[K\n",
      "remote: Total 60027 (delta 0), reused 0 (delta 0), pack-reused 60027\u001b[K\n",
      "Receiving objects: 100% (60027/60027), 19.94 MiB | 10.97 MiB/s, done.\n",
      "Resolving deltas: 100% (59990/59990), done.\n",
      "Checking out files: 100% (60001/60001), done.\n"
     ]
    }
   ],
   "source": [
    "!git clone https://github.com/YoongiKim/CIFAR-10-images"
   ]
  },
  {
   "cell_type": "code",
   "execution_count": 3,
   "metadata": {
    "executionInfo": {
     "elapsed": 4150,
     "status": "ok",
     "timestamp": 1665923356466,
     "user": {
      "displayName": "SOUMYADEEP BANIK",
      "userId": "08525205833121109985"
     },
     "user_tz": -330
    },
    "id": "Zp9jF91dZKS6"
   },
   "outputs": [],
   "source": [
    "import torch\n",
    "import numpy as np\n",
    "import pandas as pd\n",
    "import matplotlib.pyplot as plt\n",
    "import torch.nn.functional as F\n",
    "from torch import nn, optim\n",
    "from imutils import paths\n",
    "from sklearn.preprocessing import LabelBinarizer\n",
    "from sklearn.model_selection import train_test_split\n",
    "from torch.utils.data import Dataset, DataLoader\n",
    "from torchvision import transforms, models\n",
    "from PIL import Image\n",
    "from torch.utils.data.sampler import SubsetRandomSampler"
   ]
  },
  {
   "cell_type": "code",
   "execution_count": 4,
   "metadata": {
    "executionInfo": {
     "elapsed": 9,
     "status": "ok",
     "timestamp": 1665923356466,
     "user": {
      "displayName": "SOUMYADEEP BANIK",
      "userId": "08525205833121109985"
     },
     "user_tz": -330
    },
    "id": "-kQx9wYxZKiG"
   },
   "outputs": [],
   "source": [
    "def if_gpu_avlbl():\n",
    "    gpu_avlbl = torch.cuda.is_available()\n",
    "    if not gpu_avlbl:\n",
    "        print('CUDA is not available.  Training on CPU ...')\n",
    "    else:\n",
    "        print('CUDA is available!  Training on GPU ...')"
   ]
  },
  {
   "cell_type": "code",
   "execution_count": 5,
   "metadata": {
    "colab": {
     "base_uri": "https://localhost:8080/"
    },
    "executionInfo": {
     "elapsed": 9,
     "status": "ok",
     "timestamp": 1665923356467,
     "user": {
      "displayName": "SOUMYADEEP BANIK",
      "userId": "08525205833121109985"
     },
     "user_tz": -330
    },
    "id": "WnZcp7MQZKm4",
    "outputId": "f5fbce4b-aba2-450b-dc69-503813b59c06"
   },
   "outputs": [
    {
     "name": "stdout",
     "output_type": "stream",
     "text": [
      "CUDA is available!  Training on GPU ...\n"
     ]
    }
   ],
   "source": [
    "if_gpu_avlbl()"
   ]
  },
  {
   "cell_type": "code",
   "execution_count": 6,
   "metadata": {
    "executionInfo": {
     "elapsed": 6,
     "status": "ok",
     "timestamp": 1665923356467,
     "user": {
      "displayName": "SOUMYADEEP BANIK",
      "userId": "08525205833121109985"
     },
     "user_tz": -330
    },
    "id": "_B9BWNclZKrG"
   },
   "outputs": [],
   "source": [
    "#flip, rotation, translation, to_tensor, normalize\n",
    "\n",
    "train_transform = transforms.Compose([transforms.RandomHorizontalFlip(),\n",
    "                                      transforms.RandomRotation(10),\n",
    "                                      transforms.ToTensor(),\n",
    "                                      transforms.Normalize((0.5, 0.5, 0.5), \n",
    "                                                          (0.5, 0.5, 0.5))\n",
    "                                      ])\n",
    "\n",
    "test_transform = transforms.Compose([transforms.ToTensor(),\n",
    "                                     transforms.Normalize((0.5, 0.5, 0.5),\n",
    "                                                          (0.5, 0.5, 0.5)),\n",
    "                                     ])"
   ]
  },
  {
   "cell_type": "code",
   "execution_count": 7,
   "metadata": {
    "executionInfo": {
     "elapsed": 5229,
     "status": "ok",
     "timestamp": 1665923361691,
     "user": {
      "displayName": "SOUMYADEEP BANIK",
      "userId": "08525205833121109985"
     },
     "user_tz": -330
    },
    "id": "Fg3oVT1FZKu9"
   },
   "outputs": [],
   "source": [
    "#defining data loader\n",
    "test_path = '/content/CIFAR-10-images/test'\n",
    "test_paths = list(paths.list_images(test_path))\n",
    "test_data = pd.DataFrame(columns=['image_path', 'label'])\n",
    "test_labels = []\n",
    "#classes = []\n",
    "for i, image_path in enumerate(test_paths):\n",
    "    test_data.loc[i, 'image_path'] = image_path\n",
    "    test_label = image_path[len(test_path):].split('/')[1]\n",
    "    if test_label != 'bird':\n",
    "        test_label = 'Not_bird'\n",
    "    #print(test_label)\n",
    "    test_labels.append(test_label)\n",
    "    #classes.append((test_label))\n",
    "\n",
    "for i in range(len(test_labels)):\n",
    "    test_data.loc[i,\"label\"] = test_labels[i]"
   ]
  },
  {
   "cell_type": "code",
   "execution_count": 8,
   "metadata": {
    "colab": {
     "base_uri": "https://localhost:8080/"
    },
    "executionInfo": {
     "elapsed": 98,
     "status": "ok",
     "timestamp": 1665923361691,
     "user": {
      "displayName": "SOUMYADEEP BANIK",
      "userId": "08525205833121109985"
     },
     "user_tz": -330
    },
    "id": "lTcQjagqRjUW",
    "outputId": "e06d14a6-19b9-49f7-c272-8eed79ae56e1"
   },
   "outputs": [
    {
     "data": {
      "text/plain": [
       "array(['Not_bird', 'bird'], dtype=object)"
      ]
     },
     "execution_count": 8,
     "metadata": {},
     "output_type": "execute_result"
    }
   ],
   "source": [
    "test_data['label'].unique()"
   ]
  },
  {
   "cell_type": "code",
   "execution_count": 9,
   "metadata": {
    "colab": {
     "base_uri": "https://localhost:8080/",
     "height": 424
    },
    "executionInfo": {
     "elapsed": 60,
     "status": "ok",
     "timestamp": 1665923361698,
     "user": {
      "displayName": "SOUMYADEEP BANIK",
      "userId": "08525205833121109985"
     },
     "user_tz": -330
    },
    "id": "qqK4Tg6oZKzG",
    "outputId": "3eab32d2-bd43-4263-b557-f8ff6b456974"
   },
   "outputs": [
    {
     "data": {
      "text/html": [
       "\n",
       "  <div id=\"df-412e526b-7d59-443f-9df8-7fc218915fda\">\n",
       "    <div class=\"colab-df-container\">\n",
       "      <div>\n",
       "<style scoped>\n",
       "    .dataframe tbody tr th:only-of-type {\n",
       "        vertical-align: middle;\n",
       "    }\n",
       "\n",
       "    .dataframe tbody tr th {\n",
       "        vertical-align: top;\n",
       "    }\n",
       "\n",
       "    .dataframe thead th {\n",
       "        text-align: right;\n",
       "    }\n",
       "</style>\n",
       "<table border=\"1\" class=\"dataframe\">\n",
       "  <thead>\n",
       "    <tr style=\"text-align: right;\">\n",
       "      <th></th>\n",
       "      <th>image_path</th>\n",
       "      <th>bird</th>\n",
       "    </tr>\n",
       "  </thead>\n",
       "  <tbody>\n",
       "    <tr>\n",
       "      <th>0</th>\n",
       "      <td>/content/CIFAR-10-images/test/horse/0115.jpg</td>\n",
       "      <td>0</td>\n",
       "    </tr>\n",
       "    <tr>\n",
       "      <th>1</th>\n",
       "      <td>/content/CIFAR-10-images/test/horse/0456.jpg</td>\n",
       "      <td>0</td>\n",
       "    </tr>\n",
       "    <tr>\n",
       "      <th>2</th>\n",
       "      <td>/content/CIFAR-10-images/test/horse/0465.jpg</td>\n",
       "      <td>0</td>\n",
       "    </tr>\n",
       "    <tr>\n",
       "      <th>3</th>\n",
       "      <td>/content/CIFAR-10-images/test/horse/0946.jpg</td>\n",
       "      <td>0</td>\n",
       "    </tr>\n",
       "    <tr>\n",
       "      <th>4</th>\n",
       "      <td>/content/CIFAR-10-images/test/horse/0678.jpg</td>\n",
       "      <td>0</td>\n",
       "    </tr>\n",
       "    <tr>\n",
       "      <th>...</th>\n",
       "      <td>...</td>\n",
       "      <td>...</td>\n",
       "    </tr>\n",
       "    <tr>\n",
       "      <th>9995</th>\n",
       "      <td>/content/CIFAR-10-images/test/cat/0246.jpg</td>\n",
       "      <td>0</td>\n",
       "    </tr>\n",
       "    <tr>\n",
       "      <th>9996</th>\n",
       "      <td>/content/CIFAR-10-images/test/cat/0268.jpg</td>\n",
       "      <td>0</td>\n",
       "    </tr>\n",
       "    <tr>\n",
       "      <th>9997</th>\n",
       "      <td>/content/CIFAR-10-images/test/cat/0940.jpg</td>\n",
       "      <td>0</td>\n",
       "    </tr>\n",
       "    <tr>\n",
       "      <th>9998</th>\n",
       "      <td>/content/CIFAR-10-images/test/cat/0896.jpg</td>\n",
       "      <td>0</td>\n",
       "    </tr>\n",
       "    <tr>\n",
       "      <th>9999</th>\n",
       "      <td>/content/CIFAR-10-images/test/cat/0444.jpg</td>\n",
       "      <td>0</td>\n",
       "    </tr>\n",
       "  </tbody>\n",
       "</table>\n",
       "<p>10000 rows × 2 columns</p>\n",
       "</div>\n",
       "      <button class=\"colab-df-convert\" onclick=\"convertToInteractive('df-412e526b-7d59-443f-9df8-7fc218915fda')\"\n",
       "              title=\"Convert this dataframe to an interactive table.\"\n",
       "              style=\"display:none;\">\n",
       "        \n",
       "  <svg xmlns=\"http://www.w3.org/2000/svg\" height=\"24px\"viewBox=\"0 0 24 24\"\n",
       "       width=\"24px\">\n",
       "    <path d=\"M0 0h24v24H0V0z\" fill=\"none\"/>\n",
       "    <path d=\"M18.56 5.44l.94 2.06.94-2.06 2.06-.94-2.06-.94-.94-2.06-.94 2.06-2.06.94zm-11 1L8.5 8.5l.94-2.06 2.06-.94-2.06-.94L8.5 2.5l-.94 2.06-2.06.94zm10 10l.94 2.06.94-2.06 2.06-.94-2.06-.94-.94-2.06-.94 2.06-2.06.94z\"/><path d=\"M17.41 7.96l-1.37-1.37c-.4-.4-.92-.59-1.43-.59-.52 0-1.04.2-1.43.59L10.3 9.45l-7.72 7.72c-.78.78-.78 2.05 0 2.83L4 21.41c.39.39.9.59 1.41.59.51 0 1.02-.2 1.41-.59l7.78-7.78 2.81-2.81c.8-.78.8-2.07 0-2.86zM5.41 20L4 18.59l7.72-7.72 1.47 1.35L5.41 20z\"/>\n",
       "  </svg>\n",
       "      </button>\n",
       "      \n",
       "  <style>\n",
       "    .colab-df-container {\n",
       "      display:flex;\n",
       "      flex-wrap:wrap;\n",
       "      gap: 12px;\n",
       "    }\n",
       "\n",
       "    .colab-df-convert {\n",
       "      background-color: #E8F0FE;\n",
       "      border: none;\n",
       "      border-radius: 50%;\n",
       "      cursor: pointer;\n",
       "      display: none;\n",
       "      fill: #1967D2;\n",
       "      height: 32px;\n",
       "      padding: 0 0 0 0;\n",
       "      width: 32px;\n",
       "    }\n",
       "\n",
       "    .colab-df-convert:hover {\n",
       "      background-color: #E2EBFA;\n",
       "      box-shadow: 0px 1px 2px rgba(60, 64, 67, 0.3), 0px 1px 3px 1px rgba(60, 64, 67, 0.15);\n",
       "      fill: #174EA6;\n",
       "    }\n",
       "\n",
       "    [theme=dark] .colab-df-convert {\n",
       "      background-color: #3B4455;\n",
       "      fill: #D2E3FC;\n",
       "    }\n",
       "\n",
       "    [theme=dark] .colab-df-convert:hover {\n",
       "      background-color: #434B5C;\n",
       "      box-shadow: 0px 1px 3px 1px rgba(0, 0, 0, 0.15);\n",
       "      filter: drop-shadow(0px 1px 2px rgba(0, 0, 0, 0.3));\n",
       "      fill: #FFFFFF;\n",
       "    }\n",
       "  </style>\n",
       "\n",
       "      <script>\n",
       "        const buttonEl =\n",
       "          document.querySelector('#df-412e526b-7d59-443f-9df8-7fc218915fda button.colab-df-convert');\n",
       "        buttonEl.style.display =\n",
       "          google.colab.kernel.accessAllowed ? 'block' : 'none';\n",
       "\n",
       "        async function convertToInteractive(key) {\n",
       "          const element = document.querySelector('#df-412e526b-7d59-443f-9df8-7fc218915fda');\n",
       "          const dataTable =\n",
       "            await google.colab.kernel.invokeFunction('convertToInteractive',\n",
       "                                                     [key], {});\n",
       "          if (!dataTable) return;\n",
       "\n",
       "          const docLinkHtml = 'Like what you see? Visit the ' +\n",
       "            '<a target=\"_blank\" href=https://colab.research.google.com/notebooks/data_table.ipynb>data table notebook</a>'\n",
       "            + ' to learn more about interactive tables.';\n",
       "          element.innerHTML = '';\n",
       "          dataTable['output_type'] = 'display_data';\n",
       "          await google.colab.output.renderOutput(dataTable, element);\n",
       "          const docLink = document.createElement('div');\n",
       "          docLink.innerHTML = docLinkHtml;\n",
       "          element.appendChild(docLink);\n",
       "        }\n",
       "      </script>\n",
       "    </div>\n",
       "  </div>\n",
       "  "
      ],
      "text/plain": [
       "                                        image_path  bird\n",
       "0     /content/CIFAR-10-images/test/horse/0115.jpg     0\n",
       "1     /content/CIFAR-10-images/test/horse/0456.jpg     0\n",
       "2     /content/CIFAR-10-images/test/horse/0465.jpg     0\n",
       "3     /content/CIFAR-10-images/test/horse/0946.jpg     0\n",
       "4     /content/CIFAR-10-images/test/horse/0678.jpg     0\n",
       "...                                            ...   ...\n",
       "9995    /content/CIFAR-10-images/test/cat/0246.jpg     0\n",
       "9996    /content/CIFAR-10-images/test/cat/0268.jpg     0\n",
       "9997    /content/CIFAR-10-images/test/cat/0940.jpg     0\n",
       "9998    /content/CIFAR-10-images/test/cat/0896.jpg     0\n",
       "9999    /content/CIFAR-10-images/test/cat/0444.jpg     0\n",
       "\n",
       "[10000 rows x 2 columns]"
      ]
     },
     "execution_count": 9,
     "metadata": {},
     "output_type": "execute_result"
    }
   ],
   "source": [
    "test_data_dum = pd.get_dummies(test_data['label'], drop_first=True)\n",
    "test_df = pd.concat([test_data['image_path'],test_data_dum], axis=1)\n",
    "test_df"
   ]
  },
  {
   "cell_type": "code",
   "execution_count": 10,
   "metadata": {
    "executionInfo": {
     "elapsed": 72527,
     "status": "ok",
     "timestamp": 1665923434172,
     "user": {
      "displayName": "SOUMYADEEP BANIK",
      "userId": "08525205833121109985"
     },
     "user_tz": -330
    },
    "id": "VIKL79bkZK2l"
   },
   "outputs": [],
   "source": [
    "#defining data loader\n",
    "train_path = '/content/CIFAR-10-images/train'\n",
    "train_paths = list(paths.list_images(train_path))\n",
    "train_data = pd.DataFrame(columns=['image_path', 'label'])\n",
    "train_labels = []\n",
    "#classes = []\n",
    "for i, image_path in enumerate(train_paths):\n",
    "    train_data.loc[i, 'image_path'] = image_path\n",
    "    train_label = image_path[len(train_path):].split('/')[1]\n",
    "    if train_label != 'bird':\n",
    "        train_label = 'Not_bird'\n",
    "    #print(train_label)\n",
    "    train_labels.append(train_label)\n",
    "    #classes.append((train_label))\n",
    "\n",
    "for i in range(len(train_labels)):\n",
    "    train_data.loc[i,\"label\"] = train_labels[i]"
   ]
  },
  {
   "cell_type": "code",
   "execution_count": 11,
   "metadata": {
    "colab": {
     "base_uri": "https://localhost:8080/"
    },
    "executionInfo": {
     "elapsed": 55,
     "status": "ok",
     "timestamp": 1665923434173,
     "user": {
      "displayName": "SOUMYADEEP BANIK",
      "userId": "08525205833121109985"
     },
     "user_tz": -330
    },
    "id": "T8N5z0uGhrIl",
    "outputId": "66640d00-11e0-4a2e-9207-a67d986a5d5b"
   },
   "outputs": [
    {
     "data": {
      "text/plain": [
       "array(['Not_bird', 'bird'], dtype=object)"
      ]
     },
     "execution_count": 11,
     "metadata": {},
     "output_type": "execute_result"
    }
   ],
   "source": [
    "train_data['label'].unique()"
   ]
  },
  {
   "cell_type": "code",
   "execution_count": 12,
   "metadata": {
    "colab": {
     "base_uri": "https://localhost:8080/",
     "height": 424
    },
    "executionInfo": {
     "elapsed": 47,
     "status": "ok",
     "timestamp": 1665923434174,
     "user": {
      "displayName": "SOUMYADEEP BANIK",
      "userId": "08525205833121109985"
     },
     "user_tz": -330
    },
    "id": "F6ZFQghbZK59",
    "outputId": "342ff088-2665-4df1-c733-51ab7d697d16"
   },
   "outputs": [
    {
     "data": {
      "text/html": [
       "\n",
       "  <div id=\"df-2c839d12-7e36-4412-baf9-52de499e7b54\">\n",
       "    <div class=\"colab-df-container\">\n",
       "      <div>\n",
       "<style scoped>\n",
       "    .dataframe tbody tr th:only-of-type {\n",
       "        vertical-align: middle;\n",
       "    }\n",
       "\n",
       "    .dataframe tbody tr th {\n",
       "        vertical-align: top;\n",
       "    }\n",
       "\n",
       "    .dataframe thead th {\n",
       "        text-align: right;\n",
       "    }\n",
       "</style>\n",
       "<table border=\"1\" class=\"dataframe\">\n",
       "  <thead>\n",
       "    <tr style=\"text-align: right;\">\n",
       "      <th></th>\n",
       "      <th>image_path</th>\n",
       "      <th>bird</th>\n",
       "    </tr>\n",
       "  </thead>\n",
       "  <tbody>\n",
       "    <tr>\n",
       "      <th>0</th>\n",
       "      <td>/content/CIFAR-10-images/train/horse/2149.jpg</td>\n",
       "      <td>0</td>\n",
       "    </tr>\n",
       "    <tr>\n",
       "      <th>1</th>\n",
       "      <td>/content/CIFAR-10-images/train/horse/1069.jpg</td>\n",
       "      <td>0</td>\n",
       "    </tr>\n",
       "    <tr>\n",
       "      <th>2</th>\n",
       "      <td>/content/CIFAR-10-images/train/horse/0115.jpg</td>\n",
       "      <td>0</td>\n",
       "    </tr>\n",
       "    <tr>\n",
       "      <th>3</th>\n",
       "      <td>/content/CIFAR-10-images/train/horse/4697.jpg</td>\n",
       "      <td>0</td>\n",
       "    </tr>\n",
       "    <tr>\n",
       "      <th>4</th>\n",
       "      <td>/content/CIFAR-10-images/train/horse/2775.jpg</td>\n",
       "      <td>0</td>\n",
       "    </tr>\n",
       "    <tr>\n",
       "      <th>...</th>\n",
       "      <td>...</td>\n",
       "      <td>...</td>\n",
       "    </tr>\n",
       "    <tr>\n",
       "      <th>49995</th>\n",
       "      <td>/content/CIFAR-10-images/train/cat/2071.jpg</td>\n",
       "      <td>0</td>\n",
       "    </tr>\n",
       "    <tr>\n",
       "      <th>49996</th>\n",
       "      <td>/content/CIFAR-10-images/train/cat/4633.jpg</td>\n",
       "      <td>0</td>\n",
       "    </tr>\n",
       "    <tr>\n",
       "      <th>49997</th>\n",
       "      <td>/content/CIFAR-10-images/train/cat/3757.jpg</td>\n",
       "      <td>0</td>\n",
       "    </tr>\n",
       "    <tr>\n",
       "      <th>49998</th>\n",
       "      <td>/content/CIFAR-10-images/train/cat/1133.jpg</td>\n",
       "      <td>0</td>\n",
       "    </tr>\n",
       "    <tr>\n",
       "      <th>49999</th>\n",
       "      <td>/content/CIFAR-10-images/train/cat/4198.jpg</td>\n",
       "      <td>0</td>\n",
       "    </tr>\n",
       "  </tbody>\n",
       "</table>\n",
       "<p>50000 rows × 2 columns</p>\n",
       "</div>\n",
       "      <button class=\"colab-df-convert\" onclick=\"convertToInteractive('df-2c839d12-7e36-4412-baf9-52de499e7b54')\"\n",
       "              title=\"Convert this dataframe to an interactive table.\"\n",
       "              style=\"display:none;\">\n",
       "        \n",
       "  <svg xmlns=\"http://www.w3.org/2000/svg\" height=\"24px\"viewBox=\"0 0 24 24\"\n",
       "       width=\"24px\">\n",
       "    <path d=\"M0 0h24v24H0V0z\" fill=\"none\"/>\n",
       "    <path d=\"M18.56 5.44l.94 2.06.94-2.06 2.06-.94-2.06-.94-.94-2.06-.94 2.06-2.06.94zm-11 1L8.5 8.5l.94-2.06 2.06-.94-2.06-.94L8.5 2.5l-.94 2.06-2.06.94zm10 10l.94 2.06.94-2.06 2.06-.94-2.06-.94-.94-2.06-.94 2.06-2.06.94z\"/><path d=\"M17.41 7.96l-1.37-1.37c-.4-.4-.92-.59-1.43-.59-.52 0-1.04.2-1.43.59L10.3 9.45l-7.72 7.72c-.78.78-.78 2.05 0 2.83L4 21.41c.39.39.9.59 1.41.59.51 0 1.02-.2 1.41-.59l7.78-7.78 2.81-2.81c.8-.78.8-2.07 0-2.86zM5.41 20L4 18.59l7.72-7.72 1.47 1.35L5.41 20z\"/>\n",
       "  </svg>\n",
       "      </button>\n",
       "      \n",
       "  <style>\n",
       "    .colab-df-container {\n",
       "      display:flex;\n",
       "      flex-wrap:wrap;\n",
       "      gap: 12px;\n",
       "    }\n",
       "\n",
       "    .colab-df-convert {\n",
       "      background-color: #E8F0FE;\n",
       "      border: none;\n",
       "      border-radius: 50%;\n",
       "      cursor: pointer;\n",
       "      display: none;\n",
       "      fill: #1967D2;\n",
       "      height: 32px;\n",
       "      padding: 0 0 0 0;\n",
       "      width: 32px;\n",
       "    }\n",
       "\n",
       "    .colab-df-convert:hover {\n",
       "      background-color: #E2EBFA;\n",
       "      box-shadow: 0px 1px 2px rgba(60, 64, 67, 0.3), 0px 1px 3px 1px rgba(60, 64, 67, 0.15);\n",
       "      fill: #174EA6;\n",
       "    }\n",
       "\n",
       "    [theme=dark] .colab-df-convert {\n",
       "      background-color: #3B4455;\n",
       "      fill: #D2E3FC;\n",
       "    }\n",
       "\n",
       "    [theme=dark] .colab-df-convert:hover {\n",
       "      background-color: #434B5C;\n",
       "      box-shadow: 0px 1px 3px 1px rgba(0, 0, 0, 0.15);\n",
       "      filter: drop-shadow(0px 1px 2px rgba(0, 0, 0, 0.3));\n",
       "      fill: #FFFFFF;\n",
       "    }\n",
       "  </style>\n",
       "\n",
       "      <script>\n",
       "        const buttonEl =\n",
       "          document.querySelector('#df-2c839d12-7e36-4412-baf9-52de499e7b54 button.colab-df-convert');\n",
       "        buttonEl.style.display =\n",
       "          google.colab.kernel.accessAllowed ? 'block' : 'none';\n",
       "\n",
       "        async function convertToInteractive(key) {\n",
       "          const element = document.querySelector('#df-2c839d12-7e36-4412-baf9-52de499e7b54');\n",
       "          const dataTable =\n",
       "            await google.colab.kernel.invokeFunction('convertToInteractive',\n",
       "                                                     [key], {});\n",
       "          if (!dataTable) return;\n",
       "\n",
       "          const docLinkHtml = 'Like what you see? Visit the ' +\n",
       "            '<a target=\"_blank\" href=https://colab.research.google.com/notebooks/data_table.ipynb>data table notebook</a>'\n",
       "            + ' to learn more about interactive tables.';\n",
       "          element.innerHTML = '';\n",
       "          dataTable['output_type'] = 'display_data';\n",
       "          await google.colab.output.renderOutput(dataTable, element);\n",
       "          const docLink = document.createElement('div');\n",
       "          docLink.innerHTML = docLinkHtml;\n",
       "          element.appendChild(docLink);\n",
       "        }\n",
       "      </script>\n",
       "    </div>\n",
       "  </div>\n",
       "  "
      ],
      "text/plain": [
       "                                          image_path  bird\n",
       "0      /content/CIFAR-10-images/train/horse/2149.jpg     0\n",
       "1      /content/CIFAR-10-images/train/horse/1069.jpg     0\n",
       "2      /content/CIFAR-10-images/train/horse/0115.jpg     0\n",
       "3      /content/CIFAR-10-images/train/horse/4697.jpg     0\n",
       "4      /content/CIFAR-10-images/train/horse/2775.jpg     0\n",
       "...                                              ...   ...\n",
       "49995    /content/CIFAR-10-images/train/cat/2071.jpg     0\n",
       "49996    /content/CIFAR-10-images/train/cat/4633.jpg     0\n",
       "49997    /content/CIFAR-10-images/train/cat/3757.jpg     0\n",
       "49998    /content/CIFAR-10-images/train/cat/1133.jpg     0\n",
       "49999    /content/CIFAR-10-images/train/cat/4198.jpg     0\n",
       "\n",
       "[50000 rows x 2 columns]"
      ]
     },
     "execution_count": 12,
     "metadata": {},
     "output_type": "execute_result"
    }
   ],
   "source": [
    "train_data_dum = pd.get_dummies(train_data['label'], drop_first=True)\n",
    "train_df = pd.concat([train_data['image_path'],train_data_dum], axis=1)\n",
    "train_df"
   ]
  },
  {
   "cell_type": "code",
   "execution_count": 13,
   "metadata": {
    "executionInfo": {
     "elapsed": 43,
     "status": "ok",
     "timestamp": 1665923434174,
     "user": {
      "displayName": "SOUMYADEEP BANIK",
      "userId": "08525205833121109985"
     },
     "user_tz": -330
    },
    "id": "xVscMNaRZK91"
   },
   "outputs": [],
   "source": [
    "train_data_df = train_df.sample(frac=1).reset_index(drop=True) #shuffle the dataset\n",
    "test_data_df = test_df.sample(frac=1).reset_index(drop=True)"
   ]
  },
  {
   "cell_type": "code",
   "execution_count": 14,
   "metadata": {
    "colab": {
     "base_uri": "https://localhost:8080/",
     "height": 424
    },
    "executionInfo": {
     "elapsed": 43,
     "status": "ok",
     "timestamp": 1665923434175,
     "user": {
      "displayName": "SOUMYADEEP BANIK",
      "userId": "08525205833121109985"
     },
     "user_tz": -330
    },
    "id": "wTl23deNjK7C",
    "outputId": "ff8339f1-af04-4ad8-b633-cae703d807bc"
   },
   "outputs": [
    {
     "data": {
      "text/html": [
       "\n",
       "  <div id=\"df-261f54a2-3a43-4c1a-86f9-8abc71f68c6d\">\n",
       "    <div class=\"colab-df-container\">\n",
       "      <div>\n",
       "<style scoped>\n",
       "    .dataframe tbody tr th:only-of-type {\n",
       "        vertical-align: middle;\n",
       "    }\n",
       "\n",
       "    .dataframe tbody tr th {\n",
       "        vertical-align: top;\n",
       "    }\n",
       "\n",
       "    .dataframe thead th {\n",
       "        text-align: right;\n",
       "    }\n",
       "</style>\n",
       "<table border=\"1\" class=\"dataframe\">\n",
       "  <thead>\n",
       "    <tr style=\"text-align: right;\">\n",
       "      <th></th>\n",
       "      <th>image_path</th>\n",
       "      <th>bird</th>\n",
       "    </tr>\n",
       "  </thead>\n",
       "  <tbody>\n",
       "    <tr>\n",
       "      <th>0</th>\n",
       "      <td>/content/CIFAR-10-images/train/horse/1303.jpg</td>\n",
       "      <td>0</td>\n",
       "    </tr>\n",
       "    <tr>\n",
       "      <th>1</th>\n",
       "      <td>/content/CIFAR-10-images/train/automobile/4503...</td>\n",
       "      <td>0</td>\n",
       "    </tr>\n",
       "    <tr>\n",
       "      <th>2</th>\n",
       "      <td>/content/CIFAR-10-images/train/deer/3603.jpg</td>\n",
       "      <td>0</td>\n",
       "    </tr>\n",
       "    <tr>\n",
       "      <th>3</th>\n",
       "      <td>/content/CIFAR-10-images/train/automobile/0769...</td>\n",
       "      <td>0</td>\n",
       "    </tr>\n",
       "    <tr>\n",
       "      <th>4</th>\n",
       "      <td>/content/CIFAR-10-images/train/cat/2014.jpg</td>\n",
       "      <td>0</td>\n",
       "    </tr>\n",
       "    <tr>\n",
       "      <th>...</th>\n",
       "      <td>...</td>\n",
       "      <td>...</td>\n",
       "    </tr>\n",
       "    <tr>\n",
       "      <th>49995</th>\n",
       "      <td>/content/CIFAR-10-images/train/airplane/2314.jpg</td>\n",
       "      <td>0</td>\n",
       "    </tr>\n",
       "    <tr>\n",
       "      <th>49996</th>\n",
       "      <td>/content/CIFAR-10-images/train/truck/4244.jpg</td>\n",
       "      <td>0</td>\n",
       "    </tr>\n",
       "    <tr>\n",
       "      <th>49997</th>\n",
       "      <td>/content/CIFAR-10-images/train/frog/0243.jpg</td>\n",
       "      <td>0</td>\n",
       "    </tr>\n",
       "    <tr>\n",
       "      <th>49998</th>\n",
       "      <td>/content/CIFAR-10-images/train/dog/3912.jpg</td>\n",
       "      <td>0</td>\n",
       "    </tr>\n",
       "    <tr>\n",
       "      <th>49999</th>\n",
       "      <td>/content/CIFAR-10-images/train/frog/0925.jpg</td>\n",
       "      <td>0</td>\n",
       "    </tr>\n",
       "  </tbody>\n",
       "</table>\n",
       "<p>50000 rows × 2 columns</p>\n",
       "</div>\n",
       "      <button class=\"colab-df-convert\" onclick=\"convertToInteractive('df-261f54a2-3a43-4c1a-86f9-8abc71f68c6d')\"\n",
       "              title=\"Convert this dataframe to an interactive table.\"\n",
       "              style=\"display:none;\">\n",
       "        \n",
       "  <svg xmlns=\"http://www.w3.org/2000/svg\" height=\"24px\"viewBox=\"0 0 24 24\"\n",
       "       width=\"24px\">\n",
       "    <path d=\"M0 0h24v24H0V0z\" fill=\"none\"/>\n",
       "    <path d=\"M18.56 5.44l.94 2.06.94-2.06 2.06-.94-2.06-.94-.94-2.06-.94 2.06-2.06.94zm-11 1L8.5 8.5l.94-2.06 2.06-.94-2.06-.94L8.5 2.5l-.94 2.06-2.06.94zm10 10l.94 2.06.94-2.06 2.06-.94-2.06-.94-.94-2.06-.94 2.06-2.06.94z\"/><path d=\"M17.41 7.96l-1.37-1.37c-.4-.4-.92-.59-1.43-.59-.52 0-1.04.2-1.43.59L10.3 9.45l-7.72 7.72c-.78.78-.78 2.05 0 2.83L4 21.41c.39.39.9.59 1.41.59.51 0 1.02-.2 1.41-.59l7.78-7.78 2.81-2.81c.8-.78.8-2.07 0-2.86zM5.41 20L4 18.59l7.72-7.72 1.47 1.35L5.41 20z\"/>\n",
       "  </svg>\n",
       "      </button>\n",
       "      \n",
       "  <style>\n",
       "    .colab-df-container {\n",
       "      display:flex;\n",
       "      flex-wrap:wrap;\n",
       "      gap: 12px;\n",
       "    }\n",
       "\n",
       "    .colab-df-convert {\n",
       "      background-color: #E8F0FE;\n",
       "      border: none;\n",
       "      border-radius: 50%;\n",
       "      cursor: pointer;\n",
       "      display: none;\n",
       "      fill: #1967D2;\n",
       "      height: 32px;\n",
       "      padding: 0 0 0 0;\n",
       "      width: 32px;\n",
       "    }\n",
       "\n",
       "    .colab-df-convert:hover {\n",
       "      background-color: #E2EBFA;\n",
       "      box-shadow: 0px 1px 2px rgba(60, 64, 67, 0.3), 0px 1px 3px 1px rgba(60, 64, 67, 0.15);\n",
       "      fill: #174EA6;\n",
       "    }\n",
       "\n",
       "    [theme=dark] .colab-df-convert {\n",
       "      background-color: #3B4455;\n",
       "      fill: #D2E3FC;\n",
       "    }\n",
       "\n",
       "    [theme=dark] .colab-df-convert:hover {\n",
       "      background-color: #434B5C;\n",
       "      box-shadow: 0px 1px 3px 1px rgba(0, 0, 0, 0.15);\n",
       "      filter: drop-shadow(0px 1px 2px rgba(0, 0, 0, 0.3));\n",
       "      fill: #FFFFFF;\n",
       "    }\n",
       "  </style>\n",
       "\n",
       "      <script>\n",
       "        const buttonEl =\n",
       "          document.querySelector('#df-261f54a2-3a43-4c1a-86f9-8abc71f68c6d button.colab-df-convert');\n",
       "        buttonEl.style.display =\n",
       "          google.colab.kernel.accessAllowed ? 'block' : 'none';\n",
       "\n",
       "        async function convertToInteractive(key) {\n",
       "          const element = document.querySelector('#df-261f54a2-3a43-4c1a-86f9-8abc71f68c6d');\n",
       "          const dataTable =\n",
       "            await google.colab.kernel.invokeFunction('convertToInteractive',\n",
       "                                                     [key], {});\n",
       "          if (!dataTable) return;\n",
       "\n",
       "          const docLinkHtml = 'Like what you see? Visit the ' +\n",
       "            '<a target=\"_blank\" href=https://colab.research.google.com/notebooks/data_table.ipynb>data table notebook</a>'\n",
       "            + ' to learn more about interactive tables.';\n",
       "          element.innerHTML = '';\n",
       "          dataTable['output_type'] = 'display_data';\n",
       "          await google.colab.output.renderOutput(dataTable, element);\n",
       "          const docLink = document.createElement('div');\n",
       "          docLink.innerHTML = docLinkHtml;\n",
       "          element.appendChild(docLink);\n",
       "        }\n",
       "      </script>\n",
       "    </div>\n",
       "  </div>\n",
       "  "
      ],
      "text/plain": [
       "                                              image_path  bird\n",
       "0          /content/CIFAR-10-images/train/horse/1303.jpg     0\n",
       "1      /content/CIFAR-10-images/train/automobile/4503...     0\n",
       "2           /content/CIFAR-10-images/train/deer/3603.jpg     0\n",
       "3      /content/CIFAR-10-images/train/automobile/0769...     0\n",
       "4            /content/CIFAR-10-images/train/cat/2014.jpg     0\n",
       "...                                                  ...   ...\n",
       "49995   /content/CIFAR-10-images/train/airplane/2314.jpg     0\n",
       "49996      /content/CIFAR-10-images/train/truck/4244.jpg     0\n",
       "49997       /content/CIFAR-10-images/train/frog/0243.jpg     0\n",
       "49998        /content/CIFAR-10-images/train/dog/3912.jpg     0\n",
       "49999       /content/CIFAR-10-images/train/frog/0925.jpg     0\n",
       "\n",
       "[50000 rows x 2 columns]"
      ]
     },
     "execution_count": 14,
     "metadata": {},
     "output_type": "execute_result"
    }
   ],
   "source": [
    "train_data_df"
   ]
  },
  {
   "cell_type": "code",
   "execution_count": 15,
   "metadata": {
    "executionInfo": {
     "elapsed": 41,
     "status": "ok",
     "timestamp": 1665923434176,
     "user": {
      "displayName": "SOUMYADEEP BANIK",
      "userId": "08525205833121109985"
     },
     "user_tz": -330
    },
    "id": "PKnFstepZLCu"
   },
   "outputs": [],
   "source": [
    "# creating dataset module\n",
    "class CIFAR2(Dataset):\n",
    "    def __init__(self, df, transform=None):\n",
    "        self.df = df\n",
    "        self.X = self.df.image_path.values\n",
    "        self.y = self.df.bird.values\n",
    "        self.transform = transform\n",
    "\n",
    "    def __len__(self):\n",
    "        return (len(self.X))\n",
    "\n",
    "    def __getitem__(self, idx):\n",
    "        image = Image.open(self.X[idx])\n",
    "        image = self.transform(image)\n",
    "        label = self.y[idx]\n",
    "\n",
    "        return image, label"
   ]
  },
  {
   "cell_type": "code",
   "execution_count": 16,
   "metadata": {
    "executionInfo": {
     "elapsed": 40,
     "status": "ok",
     "timestamp": 1665923434177,
     "user": {
      "displayName": "SOUMYADEEP BANIK",
      "userId": "08525205833121109985"
     },
     "user_tz": -330
    },
    "id": "Ua5cx_F-gH2S"
   },
   "outputs": [],
   "source": [
    "valid = 0.2\n",
    "batch_size = 15\n",
    "\n",
    "train_data = CIFAR2(train_data_df, transform = train_transform)\n",
    "test_data = CIFAR2(test_data_df, transform = train_transform)\n",
    "\n",
    "num_train = len(train_data)\n",
    "indices = list(range(num_train))\n",
    "split = int(valid * num_train)\n",
    "train_idx, valid_idx = indices[split:], indices[:split]\n",
    "\n",
    "train_sampler = SubsetRandomSampler(train_idx)\n",
    "valid_sampler = SubsetRandomSampler(valid_idx)\n",
    "\n",
    "train_loader = DataLoader(train_data, sampler=train_sampler, batch_size=batch_size)\n",
    "valid_loader = DataLoader(train_data, sampler=valid_sampler, batch_size=batch_size)\n",
    "test_loader = DataLoader(test_data, batch_size=batch_size, shuffle = True)\n",
    "\n",
    "classes = ['bird', 'Not_bird']"
   ]
  },
  {
   "cell_type": "code",
   "execution_count": 17,
   "metadata": {
    "executionInfo": {
     "elapsed": 41,
     "status": "ok",
     "timestamp": 1665923434179,
     "user": {
      "displayName": "SOUMYADEEP BANIK",
      "userId": "08525205833121109985"
     },
     "user_tz": -330
    },
    "id": "pEUZvrWPwNZh"
   },
   "outputs": [],
   "source": [
    "# model = CNN(n_hidden_layers, n_output)\n",
    "\n",
    "class CNN(nn.Module):\n",
    "  def __init__(self):\n",
    "    super(CNN, self).__init__()\n",
    "    self.conv1 = nn.Conv2d(3,32,3, padding=1)\n",
    "    self.conv2 = nn.Conv2d(32,64,3, padding=1)\n",
    "    self.conv3 = nn.Conv2d(64,128,3, padding=1)\n",
    "    self.conv4 = nn.Conv2d(128,128,3, padding=1)\n",
    "    self.conv5 = nn.Conv2d(128,256,3, padding=1)\n",
    "    self.conv6 = nn.Conv2d(256,256,3, padding=1)\n",
    "    self.pool =  nn.MaxPool2d(2,2)\n",
    "    self.relu = nn.ReLU(inplace=True)\n",
    "    self.fc1 = nn.Linear(4096,1024)\n",
    "    self.fc2 = nn.Linear(1024,512)\n",
    "    self.fc3 = nn.Linear(512,10)\n",
    "    self.dropout1 = nn.Dropout(0.2)\n",
    "    self.dropout2 = nn.Dropout(0.1)\n",
    "    self.batchnorm1 = nn.BatchNorm2d(32)\n",
    "    self.batchnorm2 = nn.BatchNorm2d(128)\n",
    "    self.batchnorm3 = nn.BatchNorm2d(256)\n",
    "\n",
    "  def forward(self, x):\n",
    "    x = self.conv1(x)\n",
    "    x = self.batchnorm1(x)\n",
    "    x = self.relu(x)\n",
    "    x = self.conv2(x)\n",
    "    x = self.relu(x)\n",
    "    x = self.pool(x)\n",
    "    \n",
    "    x = self.conv3(x)\n",
    "    x = self.batchnorm2(x)\n",
    "    x = self.relu(x)\n",
    "    x = self.conv4(x)\n",
    "    x = self.relu(x)\n",
    "    x = self.pool(x)\n",
    "    x = self.dropout1(x)    \n",
    "\n",
    "    x = self.conv5(x)\n",
    "    x = self.batchnorm3(x)\n",
    "    x = self.relu(x)\n",
    "    x = self.conv6(x)\n",
    "    x = self.relu(x)\n",
    "    x = self.pool(x)\n",
    "    \n",
    "    x = x.view(x.size(0), -1)\n",
    "    x = self.dropout1(x)\n",
    "    x = self.relu(self.fc1(x))\n",
    "    x = self.dropout2(x)\n",
    "    x = self.relu(self.fc2(x))\n",
    "    x = self.fc3(x)\n",
    "    return x"
   ]
  },
  {
   "cell_type": "code",
   "execution_count": 18,
   "metadata": {
    "executionInfo": {
     "elapsed": 40,
     "status": "ok",
     "timestamp": 1665923434179,
     "user": {
      "displayName": "SOUMYADEEP BANIK",
      "userId": "08525205833121109985"
     },
     "user_tz": -330
    },
    "id": "TqsyULEowvr5"
   },
   "outputs": [],
   "source": [
    "# Define loss and solver\n",
    "model = CNN()\n",
    "criterion = nn.CrossEntropyLoss()\n",
    "optimizer = optim.SGD(model.parameters(), lr=0.003)"
   ]
  },
  {
   "cell_type": "code",
   "execution_count": 19,
   "metadata": {
    "colab": {
     "base_uri": "https://localhost:8080/"
    },
    "executionInfo": {
     "elapsed": 5152,
     "status": "ok",
     "timestamp": 1665923439293,
     "user": {
      "displayName": "SOUMYADEEP BANIK",
      "userId": "08525205833121109985"
     },
     "user_tz": -330
    },
    "id": "Wrl3F5Ycwvq8",
    "outputId": "28ba93f1-b52f-4c47-a34e-c9bc031ef654"
   },
   "outputs": [
    {
     "data": {
      "text/plain": [
       "CNN(\n",
       "  (conv1): Conv2d(3, 32, kernel_size=(3, 3), stride=(1, 1), padding=(1, 1))\n",
       "  (conv2): Conv2d(32, 64, kernel_size=(3, 3), stride=(1, 1), padding=(1, 1))\n",
       "  (conv3): Conv2d(64, 128, kernel_size=(3, 3), stride=(1, 1), padding=(1, 1))\n",
       "  (conv4): Conv2d(128, 128, kernel_size=(3, 3), stride=(1, 1), padding=(1, 1))\n",
       "  (conv5): Conv2d(128, 256, kernel_size=(3, 3), stride=(1, 1), padding=(1, 1))\n",
       "  (conv6): Conv2d(256, 256, kernel_size=(3, 3), stride=(1, 1), padding=(1, 1))\n",
       "  (pool): MaxPool2d(kernel_size=2, stride=2, padding=0, dilation=1, ceil_mode=False)\n",
       "  (relu): ReLU(inplace=True)\n",
       "  (fc1): Linear(in_features=4096, out_features=1024, bias=True)\n",
       "  (fc2): Linear(in_features=1024, out_features=512, bias=True)\n",
       "  (fc3): Linear(in_features=512, out_features=10, bias=True)\n",
       "  (dropout1): Dropout(p=0.2, inplace=False)\n",
       "  (dropout2): Dropout(p=0.1, inplace=False)\n",
       "  (batchnorm1): BatchNorm2d(32, eps=1e-05, momentum=0.1, affine=True, track_running_stats=True)\n",
       "  (batchnorm2): BatchNorm2d(128, eps=1e-05, momentum=0.1, affine=True, track_running_stats=True)\n",
       "  (batchnorm3): BatchNorm2d(256, eps=1e-05, momentum=0.1, affine=True, track_running_stats=True)\n",
       ")"
      ]
     },
     "execution_count": 19,
     "metadata": {},
     "output_type": "execute_result"
    }
   ],
   "source": [
    "model.cuda()"
   ]
  },
  {
   "cell_type": "code",
   "execution_count": 20,
   "metadata": {
    "executionInfo": {
     "elapsed": 7,
     "status": "ok",
     "timestamp": 1665923492079,
     "user": {
      "displayName": "SOUMYADEEP BANIK",
      "userId": "08525205833121109985"
     },
     "user_tz": -330
    },
    "id": "GcsQKMSmwvpr"
   },
   "outputs": [],
   "source": [
    "#train_with_validation\n",
    "# train(n_epoch, model_filename, criterion, optimizer)\n",
    "\n",
    "def train(epoch, model_name, criterion, optimizer, trainldr, validldr):\n",
    "  valid_loss_min = np.Inf\n",
    "\n",
    "  for e in range(epoch):\n",
    "    train_loss = 0\n",
    "    valid_loss = 0\n",
    "\n",
    "    model.train()\n",
    "    for images, labels in trainldr:\n",
    "      images, labels = images.cuda(), labels.cuda()\n",
    "      log_probs = model(images)\n",
    "      loss = criterion(log_probs, labels)\n",
    "      optimizer.zero_grad()\n",
    "      loss.backward()\n",
    "      optimizer.step()\n",
    "      train_loss += loss.item()*len(images)\n",
    "    else:\n",
    "      model.eval()\n",
    "      with torch.no_grad():\n",
    "        for images, labels in validldr:\n",
    "          images, labels = images.cuda(), labels.cuda()\n",
    "          log_probs = model(images)\n",
    "          loss = criterion(log_probs, labels)\n",
    "          valid_loss += loss.item()*len(images)\n",
    "\n",
    "    train_loss = train_loss/len(trainldr.sampler)\n",
    "    valid_loss = valid_loss/len(validldr.sampler)\n",
    "\n",
    "    print(\"epoch: {}/{}\".format(e+1, epoch),\n",
    "          \"train_loss: {:.4f}\".format(train_loss),\n",
    "          \"valid_loss: {:.4f}\".format(valid_loss))\n",
    "    \n",
    "    if valid_loss <= valid_loss_min:\n",
    "      path = F\"/content/{model_name}\"\n",
    "      torch.save(model.state_dict(), path)\n",
    "      valid_loss_min = valid_loss"
   ]
  },
  {
   "cell_type": "code",
   "execution_count": 21,
   "metadata": {
    "colab": {
     "base_uri": "https://localhost:8080/"
    },
    "executionInfo": {
     "elapsed": 1283531,
     "status": "ok",
     "timestamp": 1665924789647,
     "user": {
      "displayName": "SOUMYADEEP BANIK",
      "userId": "08525205833121109985"
     },
     "user_tz": -330
    },
    "id": "Tis2ZiGHxzLV",
    "outputId": "8b8c463d-11e5-4baf-eca6-cb9636f8a744"
   },
   "outputs": [
    {
     "name": "stdout",
     "output_type": "stream",
     "text": [
      "epoch: 1/30 train_loss: 0.3274 valid_loss: 0.2970\n",
      "epoch: 2/30 train_loss: 0.2815 valid_loss: 0.2826\n",
      "epoch: 3/30 train_loss: 0.2634 valid_loss: 0.2734\n",
      "epoch: 4/30 train_loss: 0.2489 valid_loss: 0.2751\n",
      "epoch: 5/30 train_loss: 0.2355 valid_loss: 0.2397\n",
      "epoch: 6/30 train_loss: 0.2222 valid_loss: 0.2214\n",
      "epoch: 7/30 train_loss: 0.2119 valid_loss: 0.2060\n",
      "epoch: 8/30 train_loss: 0.2041 valid_loss: 0.1970\n",
      "epoch: 9/30 train_loss: 0.1980 valid_loss: 0.1957\n",
      "epoch: 10/30 train_loss: 0.1902 valid_loss: 0.2040\n",
      "epoch: 11/30 train_loss: 0.1844 valid_loss: 0.1845\n",
      "epoch: 12/30 train_loss: 0.1794 valid_loss: 0.2038\n",
      "epoch: 13/30 train_loss: 0.1747 valid_loss: 0.2575\n",
      "epoch: 14/30 train_loss: 0.1697 valid_loss: 0.1762\n",
      "epoch: 15/30 train_loss: 0.1642 valid_loss: 0.1805\n",
      "epoch: 16/30 train_loss: 0.1605 valid_loss: 0.1669\n",
      "epoch: 17/30 train_loss: 0.1569 valid_loss: 0.1659\n",
      "epoch: 18/30 train_loss: 0.1517 valid_loss: 0.1704\n",
      "epoch: 19/30 train_loss: 0.1492 valid_loss: 0.1657\n",
      "epoch: 20/30 train_loss: 0.1426 valid_loss: 0.1857\n",
      "epoch: 21/30 train_loss: 0.1403 valid_loss: 0.1585\n",
      "epoch: 22/30 train_loss: 0.1381 valid_loss: 0.1596\n",
      "epoch: 23/30 train_loss: 0.1355 valid_loss: 0.1477\n",
      "epoch: 24/30 train_loss: 0.1315 valid_loss: 0.1494\n",
      "epoch: 25/30 train_loss: 0.1275 valid_loss: 0.1585\n",
      "epoch: 26/30 train_loss: 0.1254 valid_loss: 0.1511\n",
      "epoch: 27/30 train_loss: 0.1219 valid_loss: 0.1583\n",
      "epoch: 28/30 train_loss: 0.1199 valid_loss: 0.1494\n",
      "epoch: 29/30 train_loss: 0.1169 valid_loss: 0.1501\n",
      "epoch: 30/30 train_loss: 0.1143 valid_loss: 0.1443\n"
     ]
    }
   ],
   "source": [
    "epoch = 30\n",
    "model_name = \"cifar2_cnn\"\n",
    "train(epoch, model_name, criterion, optimizer, train_loader, valid_loader)"
   ]
  },
  {
   "cell_type": "code",
   "execution_count": 22,
   "metadata": {
    "executionInfo": {
     "elapsed": 779,
     "status": "ok",
     "timestamp": 1665924994894,
     "user": {
      "displayName": "SOUMYADEEP BANIK",
      "userId": "08525205833121109985"
     },
     "user_tz": -330
    },
    "id": "QLlgz29QxzJ9"
   },
   "outputs": [],
   "source": [
    "# Evaluation with inference: load model\n",
    "# performance = test(model_filename) # total accuracy\n",
    "\n",
    "def test(model_name):\n",
    "    path = F\"/content/{model_name}\"\n",
    "    model.load_state_dict(torch.load(path))\n",
    "\n",
    "    test_loss = 0\n",
    "    test_accuracy = 0\n",
    "    \n",
    "    model.eval()\n",
    "    for images, labels in test_loader:\n",
    "        images, labels = images.cuda(), labels.cuda()\n",
    "        output = model(images)\n",
    "        loss = criterion(output, labels)\n",
    "        test_loss += loss.item()\n",
    "        probs = torch.exp(output)\n",
    "        top_prob, top_class = probs.topk(1, dim=1)\n",
    "        equals = top_class == labels.view(top_class.shape)\n",
    "        test_accuracy += torch.mean(equals.type(torch.FloatTensor)).item()\n",
    "    \n",
    "    test_loss = test_loss/len(test_loader)\n",
    "    test_accuracy = test_accuracy/len(test_loader)\n",
    "    print('Test Loss: {:.3f}\\n'.format(test_loss),\n",
    "          'Test Accuracy: {:.3f}'.format(test_accuracy))\n",
    "    fp = open(\"/content/performance.txt\", \"x\")\n",
    "    fp.write('Test Loss: {:.3f}... Test Accuracy: {:.3f}'.format(test_loss, test_accuracy))\n",
    "    fp.close()"
   ]
  },
  {
   "cell_type": "code",
   "execution_count": 23,
   "metadata": {
    "colab": {
     "base_uri": "https://localhost:8080/"
    },
    "executionInfo": {
     "elapsed": 6774,
     "status": "ok",
     "timestamp": 1665925049862,
     "user": {
      "displayName": "SOUMYADEEP BANIK",
      "userId": "08525205833121109985"
     },
     "user_tz": -330
    },
    "id": "ZR2MA54f3sIl",
    "outputId": "07c471aa-4c3f-4c0c-ae4f-a6b78890de29"
   },
   "outputs": [
    {
     "name": "stdout",
     "output_type": "stream",
     "text": [
      "Test Loss: 0.148\n",
      " Test Accuracy: 0.948\n"
     ]
    }
   ],
   "source": [
    "test('cifar2_cnn')"
   ]
  },
  {
   "cell_type": "code",
   "execution_count": null,
   "metadata": {
    "id": "ywYQqB3s3sGb"
   },
   "outputs": [],
   "source": []
  }
 ],
 "metadata": {
  "accelerator": "GPU",
  "colab": {
   "authorship_tag": "ABX9TyMgU5ZOsIBG3hGb1O3MW0Yn",
   "provenance": []
  },
  "kernelspec": {
   "display_name": "Python 3",
   "language": "python",
   "name": "python3"
  },
  "language_info": {
   "codemirror_mode": {
    "name": "ipython",
    "version": 3
   },
   "file_extension": ".py",
   "mimetype": "text/x-python",
   "name": "python",
   "nbconvert_exporter": "python",
   "pygments_lexer": "ipython3",
   "version": "3.8.10"
  }
 },
 "nbformat": 4,
 "nbformat_minor": 4
}
